{
 "cells": [
  {
   "cell_type": "code",
   "execution_count": 1,
   "id": "bcfa2aa7",
   "metadata": {},
   "outputs": [],
   "source": [
    "import petl as pt\n",
    "import pypyodbc as bd\n",
    "import sqlite3"
   ]
  },
  {
   "cell_type": "code",
   "execution_count": 2,
   "id": "ef07b12a",
   "metadata": {},
   "outputs": [],
   "source": [
    "#extart data & transofm data\n",
    "arabe = pt.fromcsv('Arabe.csv')"
   ]
  },
  {
   "cell_type": "code",
   "execution_count": 3,
   "id": "d8de2993",
   "metadata": {
    "scrolled": true
   },
   "outputs": [],
   "source": [
    "arabe = pt.rename(arabe,'Notes','Arabe')"
   ]
  },
  {
   "cell_type": "code",
   "execution_count": 4,
   "id": "7f7a7e96",
   "metadata": {},
   "outputs": [],
   "source": [
    "arabe = pt.convert(arabe,'Arabe',float) #convert Arabe column "
   ]
  },
  {
   "cell_type": "code",
   "execution_count": 5,
   "id": "7e815fcd",
   "metadata": {},
   "outputs": [
    {
     "data": {
      "text/plain": [
       "+-------------------------+-------+\n",
       "| Nom_Prenom              | Arabe |\n",
       "+=========================+=======+\n",
       "| 'Bonbeur Jean'          |  17.0 |\n",
       "+-------------------------+-------+\n",
       "| 'Heresse Megane'        |  10.0 |\n",
       "+-------------------------+-------+\n",
       "| 'Noix Stephane'         |  13.0 |\n",
       "+-------------------------+-------+\n",
       "| 'Gature Emilie'         |  15.0 |\n",
       "+-------------------------+-------+\n",
       "| 'De MonteCarlo Coralie' |  12.0 |\n",
       "+-------------------------+-------+\n",
       "..."
      ]
     },
     "execution_count": 5,
     "metadata": {},
     "output_type": "execute_result"
    }
   ],
   "source": [
    "arabe.look()"
   ]
  },
  {
   "cell_type": "code",
   "execution_count": 6,
   "id": "258a27ee",
   "metadata": {},
   "outputs": [],
   "source": [
    "math = pt.fromxlsx('Math.xlsx')"
   ]
  },
  {
   "cell_type": "code",
   "execution_count": 7,
   "id": "24cb38ee",
   "metadata": {},
   "outputs": [],
   "source": [
    "math = pt.rename(math,'Notes','Math')"
   ]
  },
  {
   "cell_type": "code",
   "execution_count": 8,
   "id": "efc58866",
   "metadata": {},
   "outputs": [
    {
     "data": {
      "text/plain": [
       "+-------------------------+------+\n",
       "| Nom_Prenom              | Math |\n",
       "+=========================+======+\n",
       "| 'Bonbeur Jean'          |   12 |\n",
       "+-------------------------+------+\n",
       "| 'Heresse Megane'        |   14 |\n",
       "+-------------------------+------+\n",
       "| 'Noix Stephane'         |   16 |\n",
       "+-------------------------+------+\n",
       "| 'Gature Emilie'         |   18 |\n",
       "+-------------------------+------+\n",
       "| 'De MonteCarlo Coralie' |   17 |\n",
       "+-------------------------+------+\n",
       "..."
      ]
     },
     "execution_count": 8,
     "metadata": {},
     "output_type": "execute_result"
    }
   ],
   "source": [
    "math.look()"
   ]
  },
  {
   "cell_type": "code",
   "execution_count": 9,
   "id": "009f86c5",
   "metadata": {},
   "outputs": [],
   "source": [
    "anglais = pt.fromxml('Anglais.xml','tr','td')"
   ]
  },
  {
   "cell_type": "code",
   "execution_count": 10,
   "id": "4dc63e41",
   "metadata": {},
   "outputs": [],
   "source": [
    "anglais = pt.rename(anglais,'Notes','Anglais')"
   ]
  },
  {
   "cell_type": "code",
   "execution_count": 11,
   "id": "c3b0b1f3",
   "metadata": {},
   "outputs": [],
   "source": [
    "anglais = pt.convert(anglais,'Anglais',float)"
   ]
  },
  {
   "cell_type": "code",
   "execution_count": 12,
   "id": "ff880807",
   "metadata": {},
   "outputs": [
    {
     "data": {
      "text/plain": [
       "+-------------------------+---------+\n",
       "| Nom_Prenom              | Anglais |\n",
       "+=========================+=========+\n",
       "| 'Bonbeur Jean'          |    10.0 |\n",
       "+-------------------------+---------+\n",
       "| 'Heresse Megane'        |    13.0 |\n",
       "+-------------------------+---------+\n",
       "| 'Noix Stephane'         |    13.0 |\n",
       "+-------------------------+---------+\n",
       "| 'Gature Emilie'         |    13.0 |\n",
       "+-------------------------+---------+\n",
       "| 'De MonteCarlo Coralie' |    15.0 |\n",
       "+-------------------------+---------+\n",
       "..."
      ]
     },
     "execution_count": 12,
     "metadata": {},
     "output_type": "execute_result"
    }
   ],
   "source": [
    "anglais.look()"
   ]
  },
  {
   "cell_type": "code",
   "execution_count": 13,
   "id": "3973fd8a",
   "metadata": {},
   "outputs": [],
   "source": [
    "cn = sqlite3.connect('Informatique.db')"
   ]
  },
  {
   "cell_type": "code",
   "execution_count": 14,
   "id": "e8f00d3c",
   "metadata": {},
   "outputs": [],
   "source": [
    "informatique = pt.fromdb(cn,'select * from eleve')"
   ]
  },
  {
   "cell_type": "code",
   "execution_count": 15,
   "id": "ae7e95f5",
   "metadata": {},
   "outputs": [],
   "source": [
    "informatique = pt.rename(informatique,'Notes','Informatique')"
   ]
  },
  {
   "cell_type": "code",
   "execution_count": 16,
   "id": "65ea8bce",
   "metadata": {},
   "outputs": [],
   "source": [
    "informatique = pt.rename(informatique,'nom_prenom','Nom_Prenom')"
   ]
  },
  {
   "cell_type": "code",
   "execution_count": 17,
   "id": "1597dcf9",
   "metadata": {},
   "outputs": [
    {
     "data": {
      "text/plain": [
       "+-------------------------+--------------+\n",
       "| Nom_Prenom              | Informatique |\n",
       "+=========================+==============+\n",
       "| 'Bonbeur Jean'          |         12.0 |\n",
       "+-------------------------+--------------+\n",
       "| 'Heresse Megane'        |         14.0 |\n",
       "+-------------------------+--------------+\n",
       "| 'Noix Stephane'         |         16.0 |\n",
       "+-------------------------+--------------+\n",
       "| 'Gature Emilie'         |         18.0 |\n",
       "+-------------------------+--------------+\n",
       "| 'De MonteCarlo Coralie' |         17.0 |\n",
       "+-------------------------+--------------+\n",
       "..."
      ]
     },
     "execution_count": 17,
     "metadata": {},
     "output_type": "execute_result"
    }
   ],
   "source": [
    "informatique.look()"
   ]
  },
  {
   "cell_type": "code",
   "execution_count": 18,
   "id": "f06ea57a",
   "metadata": {},
   "outputs": [],
   "source": [
    "francais = pt.fromjson('français.json')"
   ]
  },
  {
   "cell_type": "code",
   "execution_count": 19,
   "id": "80e89cce",
   "metadata": {},
   "outputs": [],
   "source": [
    "francais = pt.rename(francais,'Notes','Francais')"
   ]
  },
  {
   "cell_type": "code",
   "execution_count": 20,
   "id": "0ba7cf6f",
   "metadata": {},
   "outputs": [
    {
     "data": {
      "text/plain": [
       "+-------------------------+----------+\n",
       "| Nom_Prenom              | Francais |\n",
       "+=========================+==========+\n",
       "| 'Bonbeur Jean'          |       12 |\n",
       "+-------------------------+----------+\n",
       "| 'Heresse Megane'        |       14 |\n",
       "+-------------------------+----------+\n",
       "| 'Noix Stephane'         |       16 |\n",
       "+-------------------------+----------+\n",
       "| 'Gature Emilie'         |       18 |\n",
       "+-------------------------+----------+\n",
       "| 'De MonteCarlo Coralie' |       17 |\n",
       "+-------------------------+----------+\n",
       "..."
      ]
     },
     "execution_count": 20,
     "metadata": {},
     "output_type": "execute_result"
    }
   ],
   "source": [
    "francais.look()"
   ]
  },
  {
   "cell_type": "code",
   "execution_count": 21,
   "id": "9cf0497e",
   "metadata": {},
   "outputs": [],
   "source": [
    "#join data"
   ]
  },
  {
   "cell_type": "code",
   "execution_count": 22,
   "id": "b0b026da",
   "metadata": {},
   "outputs": [],
   "source": [
    "data = pt.join(arabe,francais,key='Nom_Prenom')"
   ]
  },
  {
   "cell_type": "code",
   "execution_count": 23,
   "id": "9790286f",
   "metadata": {},
   "outputs": [],
   "source": [
    "data = pt.join(data,math,key='Nom_Prenom')"
   ]
  },
  {
   "cell_type": "code",
   "execution_count": 24,
   "id": "e2cd5fc9",
   "metadata": {},
   "outputs": [],
   "source": [
    "data = pt.join(data,anglais,key='Nom_Prenom')"
   ]
  },
  {
   "cell_type": "code",
   "execution_count": 25,
   "id": "9de5d2c4",
   "metadata": {},
   "outputs": [],
   "source": [
    "data = pt.join(data,informatique,key='Nom_Prenom')"
   ]
  },
  {
   "cell_type": "code",
   "execution_count": 26,
   "id": "4f86ebed",
   "metadata": {},
   "outputs": [],
   "source": [
    "def Load_Data():\n",
    "    con = bd.connect(Trusted_Connection='yes',driver='{SQL Server}',server='DESKTOP-LORG5OV',database='Ecole')\n",
    "    pt.todb(data,con,'Resultat')\n",
    "    print(\"Succes\")"
   ]
  },
  {
   "cell_type": "code",
   "execution_count": 27,
   "id": "3a1b7f02",
   "metadata": {},
   "outputs": [
    {
     "name": "stdout",
     "output_type": "stream",
     "text": [
      "Succes\n"
     ]
    }
   ],
   "source": [
    "Load_Data()"
   ]
  },
  {
   "cell_type": "code",
   "execution_count": 28,
   "id": "3b05846b",
   "metadata": {},
   "outputs": [
    {
     "data": {
      "text/plain": [
       "+-------------------------+-------+----------+------+---------+--------------+\n",
       "| Nom_Prenom              | Arabe | Francais | Math | Anglais | Informatique |\n",
       "+=========================+=======+==========+======+=========+==============+\n",
       "| 'Bonbeur Jean'          |  17.0 |       12 |   12 |    10.0 |         12.0 |\n",
       "+-------------------------+-------+----------+------+---------+--------------+\n",
       "| 'Braltar Giles'         |  16.0 |       12 |   12 |    16.0 |         12.0 |\n",
       "+-------------------------+-------+----------+------+---------+--------------+\n",
       "| 'De MonteCarlo Coralie' |  12.0 |       17 |   17 |    15.0 |         17.0 |\n",
       "+-------------------------+-------+----------+------+---------+--------------+\n",
       "| 'Doeuf John'            |  10.0 |       15 |   15 |    13.0 |         15.0 |\n",
       "+-------------------------+-------+----------+------+---------+--------------+\n",
       "| 'Douche Rael'           |  13.0 |       14 |   14 |    10.0 |         14.0 |\n",
       "+-------------------------+-------+----------+------+---------+--------------+\n",
       "..."
      ]
     },
     "execution_count": 28,
     "metadata": {},
     "output_type": "execute_result"
    }
   ],
   "source": [
    "data.look()"
   ]
  },
  {
   "cell_type": "code",
   "execution_count": 29,
   "id": "356173c7",
   "metadata": {},
   "outputs": [],
   "source": [
    "data = pt.addfield(data,'Moyenne',lambda row:(row['Arabe']+row['Francais']+row['Math']+row['Anglais']+row['Informatique'])/5)"
   ]
  },
  {
   "cell_type": "code",
   "execution_count": 31,
   "id": "b07095d3",
   "metadata": {},
   "outputs": [
    {
     "data": {
      "text/plain": [
       "+-------------------------+-------+----------+------+---------+--------------+---------+\n",
       "| Nom_Prenom              | Arabe | Francais | Math | Anglais | Informatique | Moyenne |\n",
       "+=========================+=======+==========+======+=========+==============+=========+\n",
       "| 'Bonbeur Jean'          |  17.0 |       12 |   12 |    10.0 |         12.0 |    12.6 |\n",
       "+-------------------------+-------+----------+------+---------+--------------+---------+\n",
       "| 'Braltar Giles'         |  16.0 |       12 |   12 |    16.0 |         12.0 |    13.6 |\n",
       "+-------------------------+-------+----------+------+---------+--------------+---------+\n",
       "| 'De MonteCarlo Coralie' |  12.0 |       17 |   17 |    15.0 |         17.0 |    15.6 |\n",
       "+-------------------------+-------+----------+------+---------+--------------+---------+\n",
       "| 'Doeuf John'            |  10.0 |       15 |   15 |    13.0 |         15.0 |    13.6 |\n",
       "+-------------------------+-------+----------+------+---------+--------------+---------+\n",
       "| 'Douche Rael'           |  13.0 |       14 |   14 |    10.0 |         14.0 |    13.0 |\n",
       "+-------------------------+-------+----------+------+---------+--------------+---------+\n",
       "..."
      ]
     },
     "execution_count": 31,
     "metadata": {},
     "output_type": "execute_result"
    }
   ],
   "source": [
    "data.look()"
   ]
  },
  {
   "cell_type": "code",
   "execution_count": 39,
   "id": "ebd0f23d",
   "metadata": {},
   "outputs": [],
   "source": [
    "pt.toxlsx(data,'Moyenne_Etudiant.xlsx')"
   ]
  },
  {
   "cell_type": "code",
   "execution_count": null,
   "id": "27d93a8c",
   "metadata": {},
   "outputs": [],
   "source": []
  }
 ],
 "metadata": {
  "kernelspec": {
   "display_name": "Python 3 (ipykernel)",
   "language": "python",
   "name": "python3"
  },
  "language_info": {
   "codemirror_mode": {
    "name": "ipython",
    "version": 3
   },
   "file_extension": ".py",
   "mimetype": "text/x-python",
   "name": "python",
   "nbconvert_exporter": "python",
   "pygments_lexer": "ipython3",
   "version": "3.9.13"
  }
 },
 "nbformat": 4,
 "nbformat_minor": 5
}
